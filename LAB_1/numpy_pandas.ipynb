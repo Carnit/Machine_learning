{
 "cells": [
  {
   "cell_type": "code",
   "execution_count": 64,
   "id": "9f3bd508-3494-4f47-b48e-6536c1db76a4",
   "metadata": {},
   "outputs": [],
   "source": [
    "import numpy as np\n",
    "import pandas as pd"
   ]
  },
  {
   "cell_type": "code",
   "execution_count": 65,
   "id": "d018803e",
   "metadata": {},
   "outputs": [
    {
     "name": "stdout",
     "output_type": "stream",
     "text": [
      "2.2.1 2.2.3\n"
     ]
    }
   ],
   "source": [
    "print(np.__version__, pd.__version__)"
   ]
  },
  {
   "cell_type": "code",
   "execution_count": 66,
   "id": "64084360-2961-40bc-8951-bc5490e1cc82",
   "metadata": {},
   "outputs": [
    {
     "name": "stdout",
     "output_type": "stream",
     "text": [
      "\n",
      " numpy methods\n",
      "\n"
     ]
    }
   ],
   "source": [
    "print('\\n numpy methods\\n')"
   ]
  },
  {
   "cell_type": "code",
   "execution_count": 67,
   "id": "5904ca74-c9bf-419f-9f9d-ef5950f255d8",
   "metadata": {},
   "outputs": [
    {
     "data": {
      "text/plain": [
       "array([1, 2, 3])"
      ]
     },
     "execution_count": 67,
     "metadata": {},
     "output_type": "execute_result"
    }
   ],
   "source": [
    "np.array([1,2,3])"
   ]
  },
  {
   "cell_type": "code",
   "execution_count": 68,
   "id": "ae3b4df2-d9b8-4389-97a7-6717c279e3d4",
   "metadata": {},
   "outputs": [
    {
     "data": {
      "text/plain": [
       "array([0., 0., 0.])"
      ]
     },
     "execution_count": 68,
     "metadata": {},
     "output_type": "execute_result"
    }
   ],
   "source": [
    "np.zeros(3)"
   ]
  },
  {
   "cell_type": "code",
   "execution_count": 69,
   "id": "e4a55a87-2480-4b79-99de-f0875901bcc0",
   "metadata": {},
   "outputs": [
    {
     "data": {
      "text/plain": [
       "array([1., 1., 1.])"
      ]
     },
     "execution_count": 69,
     "metadata": {},
     "output_type": "execute_result"
    }
   ],
   "source": [
    "np.ones(3)"
   ]
  },
  {
   "cell_type": "code",
   "execution_count": 70,
   "id": "79f3c484-10af-4dea-9916-fed5abd99b39",
   "metadata": {},
   "outputs": [
    {
     "data": {
      "text/plain": [
       "array([1, 2, 3])"
      ]
     },
     "execution_count": 70,
     "metadata": {},
     "output_type": "execute_result"
    }
   ],
   "source": [
    "np.arange(1,4)"
   ]
  },
  {
   "cell_type": "code",
   "execution_count": 71,
   "id": "3ead377d-c23a-4f30-b359-160059e556a0",
   "metadata": {},
   "outputs": [
    {
     "data": {
      "text/plain": [
       "array([1., 3., 5.])"
      ]
     },
     "execution_count": 71,
     "metadata": {},
     "output_type": "execute_result"
    }
   ],
   "source": [
    "np.linspace(1.0 ,5.0 ,num = 3)"
   ]
  },
  {
   "cell_type": "code",
   "execution_count": 72,
   "id": "fe1c83c8-d3a0-48bd-b31c-13135fc37c4a",
   "metadata": {},
   "outputs": [
    {
     "data": {
      "text/plain": [
       "array([[1, 2],\n",
       "       [3, 4]])"
      ]
     },
     "execution_count": 72,
     "metadata": {},
     "output_type": "execute_result"
    }
   ],
   "source": [
    "a = np.array([[1,2],[3,4]])\n",
    "a"
   ]
  },
  {
   "cell_type": "code",
   "execution_count": 73,
   "id": "56100449-bf2f-4826-9bf2-cd7a5335480d",
   "metadata": {},
   "outputs": [
    {
     "data": {
      "text/plain": [
       "array([1, 2, 3, 4])"
      ]
     },
     "execution_count": 73,
     "metadata": {},
     "output_type": "execute_result"
    }
   ],
   "source": [
    "np.reshape(a,4)"
   ]
  },
  {
   "cell_type": "code",
   "execution_count": 74,
   "id": "c8f1316e-07da-43ce-b23f-19387e4e7a31",
   "metadata": {},
   "outputs": [
    {
     "name": "stdout",
     "output_type": "stream",
     "text": [
      "b =[[1 2]\n",
      " [3 4]]\n",
      "\n",
      "\n",
      "c=[[1 3]\n",
      " [2 4]]\n"
     ]
    }
   ],
   "source": [
    "b = np.array([[1,2],[3,4]])\n",
    "print(f\"b ={b}\")\n",
    "print(\"\\n\")\n",
    "c = np.transpose(b)\n",
    "print(f\"c={c}\")"
   ]
  },
  {
   "cell_type": "code",
   "execution_count": 75,
   "id": "49184bfa-5e46-49ee-9394-9de6f728607d",
   "metadata": {},
   "outputs": [
    {
     "data": {
      "text/plain": [
       "array([[ 7, 10],\n",
       "       [15, 22]])"
      ]
     },
     "execution_count": 75,
     "metadata": {},
     "output_type": "execute_result"
    }
   ],
   "source": [
    "d = np.dot(a, b)\n",
    "d"
   ]
  },
  {
   "cell_type": "code",
   "execution_count": 76,
   "id": "e57fd704-e853-40cf-bfec-62c1c5ffd941",
   "metadata": {},
   "outputs": [
    {
     "data": {
      "text/plain": [
       "np.int64(10)"
      ]
     },
     "execution_count": 76,
     "metadata": {},
     "output_type": "execute_result"
    }
   ],
   "source": [
    "np.sum(a)"
   ]
  },
  {
   "cell_type": "code",
   "execution_count": 77,
   "id": "aec74f5f-9a59-4530-8df8-f6fbaa011224",
   "metadata": {},
   "outputs": [
    {
     "data": {
      "text/plain": [
       "np.float64(2.5)"
      ]
     },
     "execution_count": 77,
     "metadata": {},
     "output_type": "execute_result"
    }
   ],
   "source": [
    "np.mean(b)"
   ]
  },
  {
   "cell_type": "code",
   "execution_count": 78,
   "id": "68c89cb6-04e6-4d35-b54b-93e89caa32f7",
   "metadata": {},
   "outputs": [
    {
     "data": {
      "text/plain": [
       "np.float64(26.331729908990027)"
      ]
     },
     "execution_count": 78,
     "metadata": {},
     "output_type": "execute_result"
    }
   ],
   "source": [
    "e = np.array([15,72,83,26,38])\n",
    "np.std(e)"
   ]
  },
  {
   "cell_type": "code",
   "execution_count": 79,
   "id": "91c06d05-91e8-4ec7-8cd6-b2ebd9b87188",
   "metadata": {},
   "outputs": [
    {
     "data": {
      "text/plain": [
       "np.int64(83)"
      ]
     },
     "execution_count": 79,
     "metadata": {},
     "output_type": "execute_result"
    }
   ],
   "source": [
    "np.max(e)"
   ]
  },
  {
   "cell_type": "code",
   "execution_count": 80,
   "id": "57994edb-7cd9-4133-8c3c-f3f6c47862d5",
   "metadata": {},
   "outputs": [
    {
     "data": {
      "text/plain": [
       "np.int64(15)"
      ]
     },
     "execution_count": 80,
     "metadata": {},
     "output_type": "execute_result"
    }
   ],
   "source": [
    "np.min(e)"
   ]
  },
  {
   "cell_type": "code",
   "execution_count": 81,
   "id": "1b4e1918-7707-41ad-808b-96be869de9c1",
   "metadata": {},
   "outputs": [
    {
     "name": "stdout",
     "output_type": "stream",
     "text": [
      "[1 0 1]\n",
      "[1 2]\n"
     ]
    }
   ],
   "source": [
    "f = np.array([[14,67,37],[24,62,89]])\n",
    "print(np.argmax(f,axis = 0))\n",
    "print(np.argmax(f,axis = 1))"
   ]
  },
  {
   "cell_type": "code",
   "execution_count": 82,
   "id": "b63ef5a0-6859-4188-9ee4-aa03885c0487",
   "metadata": {},
   "outputs": [
    {
     "name": "stdout",
     "output_type": "stream",
     "text": [
      "[0 1 0]\n",
      "[0 0]\n"
     ]
    }
   ],
   "source": [
    "print(np.argmin(f,axis = 0))\n",
    "print(np.argmin(f,axis = 1))"
   ]
  },
  {
   "cell_type": "code",
   "execution_count": 83,
   "id": "610956ce-dfa4-44cc-a028-bd257bbcfef4",
   "metadata": {},
   "outputs": [
    {
     "name": "stdout",
     "output_type": "stream",
     "text": [
      "(2, 2, 3)\n"
     ]
    },
    {
     "data": {
      "text/plain": [
       "array([[[0.69470987, 0.25688631, 0.04739953],\n",
       "        [0.61612204, 0.30217168, 0.91946981]],\n",
       "\n",
       "       [[0.32559943, 0.31796312, 0.44175404],\n",
       "        [0.05015795, 0.45711299, 0.56355396]]])"
      ]
     },
     "execution_count": 83,
     "metadata": {},
     "output_type": "execute_result"
    }
   ],
   "source": [
    "x = np.random.rand(2,2,3)\n",
    "print(np.shape(x))\n",
    "x"
   ]
  },
  {
   "cell_type": "code",
   "execution_count": 84,
   "id": "5d05b8c1-4228-4bed-bfca-b290fe0bdeff",
   "metadata": {},
   "outputs": [
    {
     "name": "stdout",
     "output_type": "stream",
     "text": [
      "(2, 2, 2)\n"
     ]
    },
    {
     "data": {
      "text/plain": [
       "array([[[-0.18937843,  0.39499996],\n",
       "        [-0.77224271,  0.44312596]],\n",
       "\n",
       "       [[ 0.22994369,  0.33807772],\n",
       "        [ 2.29581982, -0.72624242]]])"
      ]
     },
     "execution_count": 84,
     "metadata": {},
     "output_type": "execute_result"
    }
   ],
   "source": [
    "y = np.random.randn(2,2,2)\n",
    "print(np.shape(y))\n",
    "y"
   ]
  },
  {
   "cell_type": "code",
   "execution_count": 85,
   "id": "8beeaef1-3a86-495b-8377-fb1baa5eb6bb",
   "metadata": {},
   "outputs": [
    {
     "data": {
      "text/plain": [
       "array([ 1936,   266, 15216,   161,  6536,  2143,  3473, 14862],\n",
       "      dtype=int32)"
      ]
     },
     "execution_count": 85,
     "metadata": {},
     "output_type": "execute_result"
    }
   ],
   "source": [
    "B = np.random.randint(0, 16272, 8)\n",
    "B"
   ]
  },
  {
   "cell_type": "code",
   "execution_count": 86,
   "id": "626d0b2f-42c2-4bba-95ae-3dfab2a805a6",
   "metadata": {},
   "outputs": [
    {
     "data": {
      "text/plain": [
       "array([1, 1, 1, 1, 1, 1, 1, 1], dtype=int32)"
      ]
     },
     "execution_count": 86,
     "metadata": {},
     "output_type": "execute_result"
    }
   ],
   "source": [
    "np.ones_like(B)"
   ]
  },
  {
   "cell_type": "code",
   "execution_count": 87,
   "id": "920ea5c9-7e18-4840-b8e5-971e343b871b",
   "metadata": {},
   "outputs": [
    {
     "data": {
      "text/plain": [
       "array([0, 0, 0, 0, 0, 0, 0, 0], dtype=int32)"
      ]
     },
     "execution_count": 87,
     "metadata": {},
     "output_type": "execute_result"
    }
   ],
   "source": [
    "np.zeros_like(B)"
   ]
  },
  {
   "cell_type": "code",
   "execution_count": 88,
   "id": "4aa584c4-cd10-4b57-b3db-443cb98980d7",
   "metadata": {},
   "outputs": [
    {
     "data": {
      "text/plain": [
       "array([[1., 0., 0.],\n",
       "       [0., 1., 0.],\n",
       "       [0., 0., 1.]])"
      ]
     },
     "execution_count": 88,
     "metadata": {},
     "output_type": "execute_result"
    }
   ],
   "source": [
    "A = np.eye(3)\n",
    "A"
   ]
  },
  {
   "cell_type": "code",
   "execution_count": 89,
   "id": "5ce29961-becb-4ce6-bfc2-fb707f1be3fa",
   "metadata": {},
   "outputs": [
    {
     "data": {
      "text/plain": [
       "array([[ 1936,     0,     0,     0,     0,     0,     0,     0],\n",
       "       [    0,   266,     0,     0,     0,     0,     0,     0],\n",
       "       [    0,     0, 15216,     0,     0,     0,     0,     0],\n",
       "       [    0,     0,     0,   161,     0,     0,     0,     0],\n",
       "       [    0,     0,     0,     0,  6536,     0,     0,     0],\n",
       "       [    0,     0,     0,     0,     0,  2143,     0,     0],\n",
       "       [    0,     0,     0,     0,     0,     0,  3473,     0],\n",
       "       [    0,     0,     0,     0,     0,     0,     0, 14862]],\n",
       "      dtype=int32)"
      ]
     },
     "execution_count": 89,
     "metadata": {},
     "output_type": "execute_result"
    }
   ],
   "source": [
    "j = np.diag(B)\n",
    "j"
   ]
  },
  {
   "cell_type": "code",
   "execution_count": 92,
   "id": "03f55152-23ad-4546-8473-a29f47718005",
   "metadata": {},
   "outputs": [
    {
     "data": {
      "text/plain": [
       "array([1, 2, 3, 4, 5, 6, 7, 8])"
      ]
     },
     "execution_count": 92,
     "metadata": {},
     "output_type": "execute_result"
    }
   ],
   "source": [
    "temp_1 = np.array([1,2,3,4])\n",
    "temp_2 = np.array([5,6,7,8])\n",
    "\n",
    "f = np.concatenate((temp_1,temp_2), axis=0)\n",
    "f"
   ]
  },
  {
   "cell_type": "code",
   "execution_count": 95,
   "id": "f0d2c522-89b2-4a5e-bc41-cd617d0aa40b",
   "metadata": {},
   "outputs": [
    {
     "data": {
      "text/plain": [
       "[array([1, 2, 3, 4]), array([5, 6, 7, 8])]"
      ]
     },
     "execution_count": 95,
     "metadata": {},
     "output_type": "execute_result"
    }
   ],
   "source": [
    "g = np.split(f,2,axis=0)\n",
    "g"
   ]
  },
  {
   "cell_type": "code",
   "execution_count": 98,
   "id": "5600cd38-33a8-4fc3-b18c-22afa98e51a4",
   "metadata": {},
   "outputs": [
    {
     "data": {
      "text/plain": [
       "array([5, 2, 3, 0, 4, 8, 9, 6], dtype=int32)"
      ]
     },
     "execution_count": 98,
     "metadata": {},
     "output_type": "execute_result"
    }
   ],
   "source": [
    "np.random.choice(11,8,replace = False)"
   ]
  },
  {
   "cell_type": "code",
   "execution_count": null,
   "id": "93eff4a1-5235-4740-9798-fda4fd3eaf03",
   "metadata": {},
   "outputs": [],
   "source": []
  }
 ],
 "metadata": {
  "kernelspec": {
   "display_name": "Python 3 (ipykernel)",
   "language": "python",
   "name": "python3"
  },
  "language_info": {
   "codemirror_mode": {
    "name": "ipython",
    "version": 3
   },
   "file_extension": ".py",
   "mimetype": "text/x-python",
   "name": "python",
   "nbconvert_exporter": "python",
   "pygments_lexer": "ipython3",
   "version": "3.12.8"
  }
 },
 "nbformat": 4,
 "nbformat_minor": 5
}
