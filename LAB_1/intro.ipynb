{
 "cells": [
  {
   "cell_type": "markdown",
   "id": "5623d838-7281-49be-aa9c-00fe2a6a9159",
   "metadata": {},
   "source": [
    "# Practical 1"
   ]
  },
  {
   "cell_type": "markdown",
   "id": "69753bc4-33ee-418d-b8cd-75a1384fc600",
   "metadata": {},
   "source": [
    "## AIM : Introduction to Google Colab and jupyter notebook"
   ]
  },
  {
   "cell_type": "markdown",
   "id": "cb3cc3cf-ee3b-4847-8730-89f707f4697d",
   "metadata": {},
   "source": [
    "### Google Colab\n",
    "Google Colaboratory, often just called \"Colab,\" is a **free, cloud-based Jupyter Notebook environment** that allows you to write and run Python code through your browser.\n",
    "\n",
    "Key aspects of Google Colab\n",
    "\n",
    "* **Cloud-based:** You don't need to install anything on your computer. Everything runs on Google's servers.\n",
    "* **Jupyter Notebooks:** It uses the familiar Jupyter Notebook interface, which allows you to combine executable code, rich text (using Markdown), images, HTML, LaTeX , and more in a single document.\n",
    "* **Free Access to Computing Resources:** A significant advantage is the free access to powerful computing resources, including **GPUs (Graphics Processing Units)** and **TPUs (Tensor Processing Units)**, which can significantly accelerate tasks like machine learning.\n",
    "* **Easy Sharing:** You can easily share your Colab notebooks with others, similar to how you share Google Docs or Sheets, enabling real-time collaboration.\n",
    "* **Integration with Google Drive:** Your Colab notebooks are automatically saved to your Google Drive, making it easy to access and organize your work.\n",
    "* **Pre-installed Libraries:** Many popular Python libraries for data science and machine learning (like TensorFlow, PyTorch, Pandas, NumPy, Matplotlib, etc.) come pre-installed."
   ]
  },
  {
   "cell_type": "markdown",
   "id": "f9759074-3d60-41be-ab7e-4881ff300664",
   "metadata": {},
   "source": [
    "### Jupyter Notebook\n",
    "\n",
    "A Jupyter Notebook is an open-source web application that allows you to create and share documents that contain live code, equations, visualizations, and narrative text. Think of it as a digital lab notebook where you can combine your code with explanations, making your work more transparent and reproducible.\n",
    "\n",
    "Here's a breakdown of what makes Jupyter Notebooks useful:\n",
    "\n",
    "* **Interactive Computing:** You can write and execute code in individual blocks called \"cells.\" This allows you to run code step-by-step and see the output immediately.\n",
    "* **Rich Media:** Notebooks can contain more than just code. You can include:\n",
    "    * **Formatted text** using Markdown.\n",
    "    * **Mathematical equations** using LaTeX .\n",
    "    * **Visualizations** like plots and charts generated from your code.\n",
    "    * **Images and videos.**\n",
    "* **Narrative and Code Together:** This interleaving of code and explanation makes Jupyter Notebooks excellent for:\n",
    "    * **Data analysis and exploration:** You can document your steps and findings as you go.\n",
    "    * **Scientific computing:** Researchers can share their methods and results clearly.\n",
    "    * **Education:** It's a great tool for teaching and learning programming and data science concepts.\n",
    "    * **Prototyping:** Quickly test and iterate on code snippets.\n",
    "* **Shareable Documents:** Jupyter Notebooks are saved as `.ipynb` files, which are essentially JSON files. These can be easily shared with others, allowing them to view and even run the code.\n",
    "* **Language Agnostic (Mostly Python-focused):** While the name \"Jupyter\" comes from Julia, Python, and R, it supports many programming languages through different \"kernels.\" However, it is most commonly used with Python."
   ]
  },
  {
   "cell_type": "code",
   "execution_count": null,
   "id": "12d458b1-3751-40b8-9527-f0f267f8c65d",
   "metadata": {},
   "outputs": [],
   "source": []
  }
 ],
 "metadata": {
  "kernelspec": {
   "display_name": "Python 3",
   "language": "python",
   "name": "python3"
  },
  "language_info": {
   "codemirror_mode": {
    "name": "ipython",
    "version": 3
   },
   "file_extension": ".py",
   "mimetype": "text/x-python",
   "name": "python",
   "nbconvert_exporter": "python",
   "pygments_lexer": "ipython3",
   "version": "3.12.9"
  }
 },
 "nbformat": 4,
 "nbformat_minor": 5
}
