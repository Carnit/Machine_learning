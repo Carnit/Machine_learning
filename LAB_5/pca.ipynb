{
 "cells": [
  {
   "cell_type": "code",
   "execution_count": 8,
   "id": "92b158b9-8995-4058-b8a4-366909e6e813",
   "metadata": {},
   "outputs": [],
   "source": [
    "import numpy as np\n",
    "import pandas as pd\n",
    "import sklearn \n",
    "from sklearn.preprocessing import StandardScaler"
   ]
  },
  {
   "cell_type": "code",
   "execution_count": 9,
   "id": "85bbe276-7d73-454d-b061-2416d0f240ad",
   "metadata": {},
   "outputs": [],
   "source": [
    "X = np.array([4,8,13,7])"
   ]
  },
  {
   "cell_type": "code",
   "execution_count": 10,
   "id": "33f505f4-d420-414b-b9c9-97328c763597",
   "metadata": {},
   "outputs": [],
   "source": [
    "Y = np.array([11,4,5,14])"
   ]
  },
  {
   "cell_type": "code",
   "execution_count": 11,
   "id": "ee91701d-b7dc-4a10-9c1d-c9ee83c9d618",
   "metadata": {},
   "outputs": [],
   "source": [
    "def covariance(x, y):\n",
    "    \n",
    "    if not isinstance(x, np.ndarray) or not isinstance(y, np.ndarray):\n",
    "        return None  \n",
    "\n",
    "    if x.shape != y.shape: \n",
    "        return None  \n",
    "\n",
    "    if np.isnan(x).any() or np.isnan(y).any():  \n",
    "        return np.nan\n",
    "\n",
    "    n = len(x)\n",
    "\n",
    "    if n == 0:  \n",
    "        return np.nan  \n",
    "\n",
    "    x_mean = np.mean(x)\n",
    "    y_mean = np.mean(y)\n",
    "\n",
    "    covariance = np.sum((x - x_mean) * (y - y_mean)) / (n - 1)  \n",
    "\n",
    "    return covariance\n"
   ]
  },
  {
   "cell_type": "code",
   "execution_count": 12,
   "id": "b72963d9-3b7c-4259-9bb6-7944cc436278",
   "metadata": {},
   "outputs": [
    {
     "name": "stdout",
     "output_type": "stream",
     "text": [
      "-11.0 14.0 23.0\n"
     ]
    }
   ],
   "source": [
    "cov_xy = covariance(X,Y)\n",
    "cov_xx = covariance(X,X)\n",
    "cov_yy = covariance(Y,Y)\n",
    "print(cov_xy,cov_xx,cov_yy)"
   ]
  },
  {
   "cell_type": "code",
   "execution_count": 13,
   "id": "c8b7dc14-8287-4c79-8a53-d287aa116584",
   "metadata": {},
   "outputs": [
    {
     "data": {
      "text/plain": [
       "array([[ 14., -11.],\n",
       "       [-11.,  23.]])"
      ]
     },
     "execution_count": 13,
     "metadata": {},
     "output_type": "execute_result"
    }
   ],
   "source": [
    "cov_matrix = np.array([[cov_xx,cov_xy],[cov_xy,cov_yy]])\n",
    "cov_matrix"
   ]
  },
  {
   "cell_type": "code",
   "execution_count": 14,
   "id": "0021da6d-7828-4d79-9b8a-55e0009770b8",
   "metadata": {},
   "outputs": [
    {
     "name": "stdout",
     "output_type": "stream",
     "text": [
      "[[-0.83025082  0.55738997]\n",
      " [-0.55738997 -0.83025082]]\n",
      "\n",
      "\n",
      "[ 6.61513568 30.38486432]\n"
     ]
    }
   ],
   "source": [
    "eigen_values ,eigen_vectors = np.linalg.eig(cov_matrix)\n",
    "print(f\" eigen vector{eigen_vectors}\") \n",
    "print('\\n')\n",
    "print(\"ei{eigen_values}\")"
   ]
  },
  {
   "cell_type": "code",
   "execution_count": 15,
   "id": "621ddd1a-880c-4c67-83e4-04426b6ada0f",
   "metadata": {},
   "outputs": [],
   "source": [
    "def pca(eigen_values, eigen_vectors, X, Y, k=2): \n",
    "    \n",
    "    if not isinstance(eigen_values, np.ndarray) or not isinstance(eigen_vectors, np.ndarray) or not isinstance(X, np.ndarray) or not isinstance(Y, np.ndarray):\n",
    "        print(\"Error: Inputs must be NumPy arrays.\")\n",
    "        return None, None\n",
    "\n",
    "    if eigen_values.ndim != 1 or eigen_vectors.ndim != 2:\n",
    "        print(\"Error: eigen_values must be 1D, eigen_vectors must be 2D.\")\n",
    "        return None, None\n",
    "\n",
    "    if eigen_vectors.shape[0] != eigen_vectors.shape[1]:\n",
    "        print(\"Error: eigen_vectors must be a square matrix.\")\n",
    "        return None, None\n",
    "\n",
    "    if k <= 0 or k > eigen_values.shape[0]:\n",
    "        print(\"Error: k must be a positive integer less than or equal to the number of eigenvalues.\")\n",
    "        return None, None\n",
    "\n",
    "    if X.shape != Y.shape:\n",
    "        print(\"Error: X and Y must have the same shape.\")\n",
    "        return None, None\n",
    "\n",
    "    sorted_indices = np.argsort(eigen_values)[::-1]\n",
    "    sorted_eigen_values = eigen_values[sorted_indices]\n",
    "    sorted_eigen_vectors = eigen_vectors[:, sorted_indices]\n",
    "\n",
    "    data = np.array([X, Y]).T\n",
    "    scaler = StandardScaler()  \n",
    "    scaled_data = scaler.fit_transform(data)\n",
    "\n",
    "    top_k_eigenvectors = sorted_eigen_vectors[:, :k] \n",
    "    principal_components = np.dot(scaled_data, top_k_eigenvectors)\n",
    "\n",
    "    explained_variance_ratio = sorted_eigen_values[:k] / np.sum(eigen_values)\n",
    "\n",
    "    return principal_components, explained_variance_ratio\n",
    "\n"
   ]
  },
  {
   "cell_type": "code",
   "execution_count": 16,
   "id": "ee786067-0b2b-4522-9d5b-e86192e73249",
   "metadata": {},
   "outputs": [
    {
     "name": "stdout",
     "output_type": "stream",
     "text": [
      "Principal Components:\n",
      " [[-1.18780938  0.68937453]\n",
      " [ 0.89955408  0.6039168 ]\n",
      " [ 1.55972457 -0.81139176]\n",
      " [-1.27146926 -0.48189957]]\n",
      "\n",
      "Explained Variance Ratio:\n",
      " [0.82121255 0.17878745]\n"
     ]
    }
   ],
   "source": [
    "principal_components, explained_variance_ratio = pca(eigen_values, eigen_vectors, X, Y, k=2)\n",
    "if principal_components is not None:\n",
    "    print(\"Principal Components:\\n\", principal_components)\n",
    "    print(\"\\nExplained Variance Ratio:\\n\", explained_variance_ratio)"
   ]
  },
  {
   "cell_type": "code",
   "execution_count": null,
   "id": "72096e9d-93ac-4db1-be21-55fc3f588add",
   "metadata": {},
   "outputs": [],
   "source": []
  }
 ],
 "metadata": {
  "kernelspec": {
   "display_name": "Python 3 (ipykernel)",
   "language": "python",
   "name": "python3"
  },
  "language_info": {
   "codemirror_mode": {
    "name": "ipython",
    "version": 3
   },
   "file_extension": ".py",
   "mimetype": "text/x-python",
   "name": "python",
   "nbconvert_exporter": "python",
   "pygments_lexer": "ipython3",
   "version": "3.13.2"
  }
 },
 "nbformat": 4,
 "nbformat_minor": 5
}
