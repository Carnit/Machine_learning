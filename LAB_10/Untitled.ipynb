{
 "cells": [
  {
   "cell_type": "code",
   "execution_count": 1,
   "id": "1ee7110b-dea2-40d4-808d-911f411c8a04",
   "metadata": {},
   "outputs": [
    {
     "name": "stdout",
     "output_type": "stream",
     "text": [
      "Package         Version\n",
      "--------------- -----------\n",
      "Bottleneck      1.4.2\n",
      "Brotli          1.0.9\n",
      "contourpy       1.3.1\n",
      "cycler          0.11.0\n",
      "fonttools       4.55.3\n",
      "joblib          1.4.2\n",
      "kiwisolver      1.4.8\n",
      "matplotlib      3.10.0\n",
      "mkl_fft         1.3.11\n",
      "mkl_random      1.2.8\n",
      "mkl-service     2.4.0\n",
      "numexpr         2.10.1\n",
      "numpy           2.2.2\n",
      "packaging       24.2\n",
      "pandas          2.2.3\n",
      "pillow          11.1.0\n",
      "pip             25.0\n",
      "pyparsing       3.2.0\n",
      "PyQt6           6.7.1\n",
      "PyQt6_sip       13.9.1\n",
      "python-dateutil 2.9.0.post0\n",
      "pytz            2024.1\n",
      "scikit-learn    1.6.1\n",
      "scipy           1.15.1\n",
      "seaborn         0.13.2\n",
      "setuptools      72.1.0\n",
      "sip             6.10.0\n",
      "six             1.16.0\n",
      "threadpoolctl   3.5.0\n",
      "tornado         6.4.2\n",
      "tzdata          2023.3\n",
      "unicodedata2    15.1.0\n",
      "wheel           0.45.1\n"
     ]
    }
   ],
   "source": [
    "!pip list"
   ]
  },
  {
   "cell_type": "code",
   "execution_count": null,
   "id": "a81e34ab-143d-4f69-83b9-20018b1d9ac9",
   "metadata": {},
   "outputs": [],
   "source": [
    "import numpy as np\n",
    "import pandas as pd\n",
    "import maoplotlib.pyplot as plt \n",
    "from sklearn import "
   ]
  }
 ],
 "metadata": {
  "kernelspec": {
   "display_name": "Python 3 (ipykernel)",
   "language": "python",
   "name": "python3"
  },
  "language_info": {
   "codemirror_mode": {
    "name": "ipython",
    "version": 3
   },
   "file_extension": ".py",
   "mimetype": "text/x-python",
   "name": "python",
   "nbconvert_exporter": "python",
   "pygments_lexer": "ipython3",
   "version": "3.13.3"
  }
 },
 "nbformat": 4,
 "nbformat_minor": 5
}
